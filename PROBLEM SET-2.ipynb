{
 "cells": [
  {
   "cell_type": "markdown",
   "metadata": {},
   "source": [
    " ## PROBLEM SET-2"
   ]
  },
  {
   "cell_type": "markdown",
   "metadata": {},
   "source": [
    "### QUESTION-1\n",
    "Consider the following Python module:\n",
    "a = 0\n",
    "def b():\n",
    " global a\n",
    " a = c(a)\n",
    "def c(a):\n",
    " return a + 2\n",
    "After importing the module into the interpreter, you execute:"
   ]
  },
  {
   "cell_type": "code",
   "execution_count": 10,
   "metadata": {},
   "outputs": [],
   "source": [
    "a=0\n",
    "def b():\n",
    "    global a\n",
    "    a=c(a)\n",
    "def c(a):\n",
    "    return a + 2"
   ]
  },
  {
   "cell_type": "code",
   "execution_count": 11,
   "metadata": {},
   "outputs": [],
   "source": [
    "b()"
   ]
  },
  {
   "cell_type": "code",
   "execution_count": 12,
   "metadata": {},
   "outputs": [],
   "source": [
    "b()"
   ]
  },
  {
   "cell_type": "code",
   "execution_count": 13,
   "metadata": {},
   "outputs": [],
   "source": [
    "b()"
   ]
  },
  {
   "cell_type": "code",
   "execution_count": 14,
   "metadata": {},
   "outputs": [
    {
     "data": {
      "text/plain": [
       "6"
      ]
     },
     "execution_count": 14,
     "metadata": {},
     "output_type": "execute_result"
    }
   ],
   "source": [
    "a"
   ]
  },
  {
   "cell_type": "markdown",
   "metadata": {},
   "source": [
    "The value of a is 6. Every time we execute the function b() in which we make the use of the word global that allows us modify the gloabal variable inside the function and assign it to c(a) which returns 0+2,2+2,4+2 and assign that value to gloabal variable a"
   ]
  },
  {
   "cell_type": "markdown",
   "metadata": {},
   "source": [
    "### QUESTION-2 \n",
    "Function fileLength(), given to you, takes the name of a file as input and returns\n",
    "the length of the file:\n",
    "\n",
    "As shown above, if the file cannot be found by the interpreter or if it cannot be read\n",
    "as a text file, an exception will be raised. Modify function fileLength() so that a\n",
    "friendly message is printed instead:"
   ]
  },
  {
   "cell_type": "code",
   "execution_count": 15,
   "metadata": {},
   "outputs": [],
   "source": [
    "def filelength(filename):\n",
    "        try :\n",
    "            name = open(filename)\n",
    "            data = name.read()\n",
    "            length = len(data)\n",
    "            print(length)\n",
    "        except:\n",
    "            print(\"file {} not found.\".format(filename))"
   ]
  },
  {
   "cell_type": "code",
   "execution_count": 16,
   "metadata": {},
   "outputs": [
    {
     "name": "stdout",
     "output_type": "stream",
     "text": [
      "102\n"
     ]
    }
   ],
   "source": [
    "filelength('bloodtype1.txt')"
   ]
  },
  {
   "cell_type": "code",
   "execution_count": 17,
   "metadata": {},
   "outputs": [
    {
     "name": "stdout",
     "output_type": "stream",
     "text": [
      "file loodtype.txt not found.\n"
     ]
    }
   ],
   "source": [
    "filelength('loodtype.txt')"
   ]
  },
  {
   "cell_type": "markdown",
   "metadata": {},
   "source": [
    "### QUESTION-3\n",
    "\n",
    "Write a class named Marsupial that can be used as shown below:\n",
    "m = Marsupial()\n",
    "m.put_in_pouch('doll')\n",
    "m.put_in_pouch('firetruck')\n",
    "m.put_in_pouch('kitten')\n",
    "m.pouch_contents()\n",
    "['doll', 'firetruck', 'kitten']\n",
    "\n",
    "\n",
    "Now write a class named Kangaroo as a subclass of Marsupial that inherits all the attributes of Marsupial and also:\n",
    "a. extends the Marsupial init constructor to take, as input, the coordinates x and y of the Kangaroo object,\n",
    "b. supports method jump that takes number values dx and dy as input and moves the kangaroo by dx units along the x-axis and by dy units along the y-axis, and\n",
    "c. overloads the str operator so it behaves as shown below.\n",
    "\n",
    "k = Kangaroo(0,0)\n",
    "print(k)\n",
    "I am a Kangaroo located at coordinates (0,0)\n",
    "k.put_in_pouch('doll')\n",
    "k.put_in_pouch('firetruck')\n",
    "k.put_in_pouch('kitten')\n",
    "k.pouch_contents()\n",
    "['doll', 'firetruck', 'kitten']\n",
    "k.jump(1,0)\n",
    "k.jump(1,0)\n",
    "k.jump(1,0)\n",
    "print(k)\n",
    "I am a Kangaroo located at coordinates (3,0)"
   ]
  },
  {
   "cell_type": "code",
   "execution_count": 4,
   "metadata": {},
   "outputs": [],
   "source": [
    "class Marsupial:\n",
    "    def __init__(self):\n",
    "        self.Contents = []\n",
    "    def put_in_pouch(self,item):   \n",
    "    #appending words to list\n",
    "        self.Contents.append(item)\n",
    "    def pouch_contents(self):\n",
    "        #return the updated list\n",
    "        return self.Contents\n",
    "class Kangaroo(Marsupial):\n",
    "     \n",
    "        #initalize constructur takes thie input of Coord. X & Y\n",
    "    def __init__(self,X=0,Y=0):\n",
    "        Marsupial.__init__(self)\n",
    "        self.x=X\n",
    "        self.y=Y\n",
    "    def jump(self,dx,dy):\n",
    "        #takes the new input of Dx, Dy and then change the values of x and y for Kangaroo\n",
    "        self.x += dx\n",
    "        self.y +=dy\n",
    "    def __str__(self):\n",
    "        return \"I am a Kangaroo located at coordinates({},{})\".format(self.x,self.y)\n",
    "                           "
   ]
  },
  {
   "cell_type": "code",
   "execution_count": 5,
   "metadata": {},
   "outputs": [],
   "source": [
    " m = Marsupial()"
   ]
  },
  {
   "cell_type": "code",
   "execution_count": 6,
   "metadata": {},
   "outputs": [
    {
     "data": {
      "text/plain": [
       "['doll', 'firetruck', 'kitten']"
      ]
     },
     "execution_count": 6,
     "metadata": {},
     "output_type": "execute_result"
    }
   ],
   "source": [
    "m.put_in_pouch('doll')\n",
    "m.put_in_pouch('firetruck')\n",
    "m.put_in_pouch('kitten')\n",
    "m.pouch_contents()"
   ]
  },
  {
   "cell_type": "code",
   "execution_count": 7,
   "metadata": {
    "scrolled": true
   },
   "outputs": [
    {
     "name": "stdout",
     "output_type": "stream",
     "text": [
      "I am a Kangaroo located at coordinates(0,0)\n"
     ]
    }
   ],
   "source": [
    "k=Kangaroo(0,0)\n",
    "print(k)"
   ]
  },
  {
   "cell_type": "code",
   "execution_count": 8,
   "metadata": {},
   "outputs": [],
   "source": [
    "k.put_in_pouch('doll')"
   ]
  },
  {
   "cell_type": "code",
   "execution_count": 9,
   "metadata": {},
   "outputs": [],
   "source": [
    "k.put_in_pouch('firetruck')"
   ]
  },
  {
   "cell_type": "code",
   "execution_count": 10,
   "metadata": {},
   "outputs": [],
   "source": [
    "k.put_in_pouch('kitten')"
   ]
  },
  {
   "cell_type": "code",
   "execution_count": 11,
   "metadata": {},
   "outputs": [
    {
     "data": {
      "text/plain": [
       "['doll', 'firetruck', 'kitten']"
      ]
     },
     "execution_count": 11,
     "metadata": {},
     "output_type": "execute_result"
    }
   ],
   "source": [
    "k.pouch_contents()"
   ]
  },
  {
   "cell_type": "code",
   "execution_count": 12,
   "metadata": {},
   "outputs": [],
   "source": [
    "k.jump(1,0)"
   ]
  },
  {
   "cell_type": "code",
   "execution_count": 13,
   "metadata": {},
   "outputs": [],
   "source": [
    "k.jump(1,0)"
   ]
  },
  {
   "cell_type": "code",
   "execution_count": 14,
   "metadata": {},
   "outputs": [],
   "source": [
    "k.jump(1,0)"
   ]
  },
  {
   "cell_type": "code",
   "execution_count": 15,
   "metadata": {},
   "outputs": [
    {
     "name": "stdout",
     "output_type": "stream",
     "text": [
      "I am a Kangaroo located at coordinates(3,0)\n"
     ]
    }
   ],
   "source": [
    "print(k)"
   ]
  },
  {
   "cell_type": "markdown",
   "metadata": {},
   "source": [
    "### QUESTION-4 \n",
    "\n",
    "Implement a new GUI class App that combines user-defined tkinter widget classes\n",
    "Calculator and Mortgage displayed below: (This question can be done using a\n",
    ".py file)    "
   ]
  },
  {
   "cell_type": "markdown",
   "metadata": {},
   "source": [
    "##### PDF ALSO ATTACHED"
   ]
  },
  {
   "cell_type": "code",
   "execution_count": 16,
   "metadata": {},
   "outputs": [],
   "source": [
    "from tkinter import *\n",
    "#MORTGAGE GUI\n",
    "class Mortgage(Frame):\n",
    "     \n",
    "    def __init__(self,parent= None):\n",
    "        Frame.__init__(self,parent)\n",
    "   \n",
    "        #binding the GRID GUI in frame\n",
    "        mort = Frame(parent)\n",
    "        mort.pack(side = LEFT)\n",
    "        Loan_amt = Label(mort, text = 'Loan Amount:').grid(row=0,column=0)\n",
    "        self.loan_Ent = Entry(mort).grid(row=0,column=1)\n",
    "        \n",
    "        int_Rate = Label(mort, text = 'Interest Rate:').grid(row=1,column=0)\n",
    "        self.int_Ent = Entry(mort).grid(row=1,column=1)\n",
    "        \n",
    "        Loan_Terms = Label(mort, text = 'Loan Terms:').grid(row=2,column=0)\n",
    "        self.loan_T = Entry(mort).grid(row=2,column=1)\n",
    "     \n",
    "        button = Button(mort, text = 'Compute Mortgage').grid(row=3,column=0)\n",
    "        self.Calc_Mot = Entry(mort)\n",
    "        \n",
    "        self.Calc_Mot.grid(row=3,column=1)\n",
    "        \n",
    "from tkinter import Tk\n",
    "root=Tk()\n",
    "mort = Mortgage(root)\n",
    "root.mainloop()"
   ]
  },
  {
   "cell_type": "code",
   "execution_count": 17,
   "metadata": {},
   "outputs": [],
   "source": [
    "from tkinter import *\n",
    "\n",
    "class Calculator(Frame):\n",
    "     #CALC GUI\n",
    "    def __init__(self,parent = None):\n",
    "        Frame.__init__(self,parent)\n",
    "        #BINDING THE GRID GUI IN FRAME\n",
    "        calc = Frame(parent)\n",
    "        calc.pack(side = LEFT)\n",
    "        \n",
    "        self.int_Ent = Entry(calc)\n",
    "        \n",
    "        self.int_Ent.grid(row=0,column=0, columnspan=4)\n",
    "        \n",
    "        MC = Button(calc,text='MC',height=1,width=5).grid(row=1,column=0,pady=4,padx=4)\n",
    "        MPLUS = Button(calc,text='M+',height=1,width=5).grid(row=1,column=1,pady=4,padx=4)\n",
    "        MMINUS = Button(calc,text='M-',height=1,width=5).grid(row=1,column=2,pady=4,padx=4)\n",
    "        MEMORY = Button(calc,text='MR',height=1,width=5).grid(row=1,column=3,pady=4,padx=4)\n",
    "\n",
    "        CLEAR = Button(calc,text='C',height=1,width=5).grid(row=2,column=0,pady=4,padx=4)\n",
    "        sqrt = Button(calc,text=chr(8730),height=1,width=5).grid(row=2,column=1,pady=4,padx=4)\n",
    "        sqr = Button(calc,text='x\\u00b2',height=1,width=5).grid(row=2,column=2,pady=4,padx=4)\n",
    "        add = Button(calc,text='+',height=1,width=5).grid(row=2,column=3,pady=4,padx=4)\n",
    "\n",
    "        SEVEN = Button(calc,text=7,height=1,width=5).grid(row=3,column=0,pady=4,padx=4)\n",
    "        EIGHT = Button(calc,text=8,height=1,width=5).grid(row=3,column=1,pady=4,padx=4)\n",
    "        NINE = Button(calc,text=9,height=1,width=5).grid(row=3,column=2,pady=4,padx=4)\n",
    "        SUB = Button(calc,text='-',height=1,width=5).grid(row=3,column=3,pady=4,padx=4)\n",
    "\n",
    "        FOUR = Button(calc,text=4,height=1,width=5).grid(row=4,column=0,pady=4,padx=4)\n",
    "        FIVE = Button(calc,text=5,height=1,width=5).grid(row=4,column=1,pady=4,padx=4)\n",
    "        SIX = Button(calc,text=6,height=1,width=5).grid(row=4,column=2,pady=4,padx=4)\n",
    "        MULT = Button(calc,text='*',height=1,width=5).grid(row=4,column=3,pady=4,padx=4)\n",
    "\n",
    "        ONE = Button(calc,text=1,height=1,width=5).grid(row=5,column=0,pady=4,padx=4)\n",
    "        TWO = Button(calc,text=2,height=1,width=5).grid(row=5,column=1,pady=4,padx=4)\n",
    "        THREE = Button(calc,text=3,height=1,width=5).grid(row=5,column=2,pady=4,padx=4)\n",
    "        DIV = Button(calc,text='/',height=1,width=5).grid(row=5,column=3,pady=4,padx=4)\n",
    "\n",
    "        ZERO = Button(calc,text=0,height=1,width=5).grid(row=6,column=0,pady=4,padx=4)\n",
    "        DOT = Button(calc,text='.',height=1,width=5).grid(row=6,column=1,pady=4,padx=4)\n",
    "        ADD_SUB = Button(calc,text='+-',height=1,width=5).grid(row=6,column=2,pady=4,padx=4)\n",
    "        EQUALS = Button(calc,text='=',height=1,width=5).grid(row=6,column=3,pady=4,padx=4)\n",
    "from tkinter import Tk\n",
    "root=Tk()\n",
    "calc = Calculator(root)\n",
    "root.mainloop()"
   ]
  },
  {
   "cell_type": "code",
   "execution_count": 18,
   "metadata": {},
   "outputs": [],
   "source": [
    "class App(Frame):\n",
    "\n",
    "    def __init__(self, master):\n",
    "        #PACKING BOTH CALC FRAME AND MOTGAGE FRAME USING PACK\n",
    "        Frame.__init__(self, master)\n",
    "        draw = Mortgage(self)\n",
    "        draw.pack(side=LEFT)\n",
    "        plotter = Calculator(self)\n",
    "        plotter.pack(side=RIGHT)\n",
    "from tkinter import Tk\n",
    "root = Tk()\n",
    "app = App(root)\n",
    "app.pack()\n",
    "root.mainloop()        "
   ]
  },
  {
   "cell_type": "markdown",
   "metadata": {},
   "source": [
    "### QUESTION-5 \n",
    "\n",
    "Write function collatz() that takes a positive integer x as input and prints the\n",
    "\n",
    "Collatz sequence starting at x. A Collatz sequence is obtained by repeatedly applying\n",
    "\n",
    "this rule to the previous number x in the sequence:\n",
    "\n",
    "x = {\n",
    "𝑥/2 𝑖𝑓 𝑥 𝑖𝑠 𝑒𝑣𝑒𝑛\n",
    "3𝑥 + 1 𝑖𝑓 𝑥 𝑖𝑠 𝑜𝑑𝑑\n",
    "Your function should stop when the sequence gets to number 1. Your\n",
    "implementation must be recursive, without any loops."
   ]
  },
  {
   "cell_type": "code",
   "execution_count": 19,
   "metadata": {},
   "outputs": [],
   "source": [
    "def collatz(x):\n",
    "    \n",
    "    #base case when number is eaqual to 1\n",
    "    \n",
    "    if x==1:\n",
    "        print(1)\n",
    "        return\n",
    "    \n",
    "    #recursive case when number is greater than 1\n",
    "    if x>1:\n",
    "        print(x)\n",
    "        if x%2 == 0:\n",
    "            x=x//2\n",
    "        else:\n",
    "            x=3*x+1\n",
    "        collatz(x) "
   ]
  },
  {
   "cell_type": "code",
   "execution_count": 20,
   "metadata": {},
   "outputs": [
    {
     "name": "stdout",
     "output_type": "stream",
     "text": [
      "1\n"
     ]
    }
   ],
   "source": [
    "collatz(1)"
   ]
  },
  {
   "cell_type": "code",
   "execution_count": 21,
   "metadata": {},
   "outputs": [
    {
     "name": "stdout",
     "output_type": "stream",
     "text": [
      "10\n",
      "5\n",
      "16\n",
      "8\n",
      "4\n",
      "2\n",
      "1\n"
     ]
    }
   ],
   "source": [
    "collatz(10)"
   ]
  },
  {
   "cell_type": "markdown",
   "metadata": {},
   "source": [
    "### QUESTION-6\n",
    "\n",
    "Write a recursive method binary() that takes a non-negative\n",
    "integer n and prints the binary representation of integer n."
   ]
  },
  {
   "cell_type": "code",
   "execution_count": 48,
   "metadata": {},
   "outputs": [],
   "source": [
    "def binary(n):\n",
    "    \n",
    "    #base case \n",
    "    if n==0 or n==1:\n",
    "        print(n)\n",
    "    else:\n",
    "        #modulus of n%2\n",
    "        print(n%2, end='')\n",
    "        n=n//2\n",
    "        #recursive call to function binary\n",
    "        binary(n) "
   ]
  },
  {
   "cell_type": "code",
   "execution_count": 49,
   "metadata": {},
   "outputs": [
    {
     "name": "stdout",
     "output_type": "stream",
     "text": [
      "0\n"
     ]
    }
   ],
   "source": [
    "binary(0)"
   ]
  },
  {
   "cell_type": "code",
   "execution_count": 50,
   "metadata": {},
   "outputs": [
    {
     "name": "stdout",
     "output_type": "stream",
     "text": [
      "1001\n"
     ]
    }
   ],
   "source": [
    "binary(9)"
   ]
  },
  {
   "cell_type": "code",
   "execution_count": 51,
   "metadata": {},
   "outputs": [
    {
     "name": "stdout",
     "output_type": "stream",
     "text": [
      "11\n"
     ]
    }
   ],
   "source": [
    "binary(3)"
   ]
  },
  {
   "cell_type": "markdown",
   "metadata": {},
   "source": [
    "### QUESTION-7\n",
    "\n",
    "Implement a class named HeadingParser that can be used to parse an HTML\n",
    "document, and retrieve and print all the headings in the document. You should\n",
    "implement your class as a subclass of HTMLParser, defined in Standard Library\n",
    "module html.parser. When fed a string containing HTML code, your class should \n",
    "print the headings, one per line and in the order in which they appear in the\n",
    "document. Each heading should be indented as follows: an h1 heading should have\n",
    "indentation 0, and h2 heading should have indentation 1, etc. Test your\n",
    "implementation using w3c.html."
   ]
  },
  {
   "cell_type": "code",
   "execution_count": 52,
   "metadata": {},
   "outputs": [
    {
     "name": "stdout",
     "output_type": "stream",
     "text": [
      "W3C Mission\n",
      " Principles\n"
     ]
    }
   ],
   "source": [
    "from html.parser import HTMLParser\n",
    "class HeadingParser(HTMLParser):\n",
    "    #initialize the HTML parser and initialize values\n",
    "    def __init__(self):\n",
    "        HTMLParser.__init__(self)\n",
    "        self.inHeading = False\n",
    "        self.indentation = ''\n",
    "\n",
    "    def handle_starttag(self, tag, attrs):\n",
    "        #checking for heading tags \n",
    "        if tag in [\"h1\",\"h2\",\"h3\",\"h4\",\"h5\",\"h6\"]:\n",
    "            \n",
    "            self.inHeading = True\n",
    "            #multiplying by the tag location to get the indentation\n",
    "            self.indentation = ' ' * (int(tag[1]) - 1)\n",
    "        else:\n",
    "            self.inHeading = False\n",
    "    #builting function of htmlparser to handle data \n",
    "    def handle_data(self, data):\n",
    "        if self.inHeading:\n",
    "            #printing with indentation\n",
    "            print(\"{}{}\".format(self.indentation, data))\n",
    "            self.inHeading = False\n",
    "\n",
    "file = open('w3cl.html')\n",
    "content = file.read()\n",
    "file.close()\n",
    "hp = HeadingParser()\n",
    "hp.feed(content)"
   ]
  },
  {
   "cell_type": "markdown",
   "metadata": {},
   "source": [
    "### QUESTION-8\n",
    "\n",
    "Implement recursive function webdir() that takes as input: a URL (as a string) and\n",
    "non-negative integers depth and indent. Your function should visit every web\n",
    "page reachable from the starting URL web page in depth clicks or less, and print\n",
    "each web page's URL. As shown below, indentation, specified by indent, should\n",
    "be used to indicate the depth of a URL."
   ]
  },
  {
   "cell_type": "code",
   "execution_count": 1,
   "metadata": {},
   "outputs": [
    {
     "name": "stdout",
     "output_type": "stream",
     "text": [
      "https://banjaraking.bigcartel.com/\n",
      "  https://banjaraking.bigcartel.com/\n",
      "    https://banjaraking.bigcartel.com/\n",
      "    https://banjaraking.bigcartel.com/cart\n",
      "    https://banjaraking.bigcartel.com/products\n",
      "    https://banjaraking.bigcartel.com/contact\n",
      "    https://www.instagram.com/banjara_king/\n",
      "    https://www.bigcartel.com/?utm_source=bigcartel&utm_medium=credit&utm_campaign=2502679\n",
      "    https://banjaraking.bigcartel.com/cart\n",
      "    https://banjaraking.bigcartel.com/\n",
      "    https://banjaraking.bigcartel.com/\n",
      "    https://banjaraking.bigcartel.com/product/fringed-banjara-bag\n",
      "    https://banjaraking.bigcartel.com/product/embellished-suede-sling\n",
      "  https://banjaraking.bigcartel.com/cart\n",
      "    https://banjaraking.bigcartel.com/\n",
      "    https://banjaraking.bigcartel.com/cart\n",
      "    https://banjaraking.bigcartel.com/products\n",
      "    https://banjaraking.bigcartel.com/contact\n",
      "    https://www.instagram.com/banjara_king/\n",
      "    https://www.bigcartel.com/?utm_source=bigcartel&utm_medium=credit&utm_campaign=2502679\n",
      "    https://banjaraking.bigcartel.com/cart\n",
      "    https://banjaraking.bigcartel.com/cart\n",
      "    https://banjaraking.bigcartel.com/\n",
      "    https://banjaraking.bigcartel.com/\n",
      "  https://banjaraking.bigcartel.com/products\n",
      "    https://banjaraking.bigcartel.com/\n",
      "    https://banjaraking.bigcartel.com/cart\n",
      "    https://banjaraking.bigcartel.com/products\n",
      "    https://banjaraking.bigcartel.com/contact\n",
      "    https://www.instagram.com/banjara_king/\n",
      "    https://www.bigcartel.com/?utm_source=bigcartel&utm_medium=credit&utm_campaign=2502679\n",
      "    https://banjaraking.bigcartel.com/cart\n",
      "    https://banjaraking.bigcartel.com/products\n",
      "    https://banjaraking.bigcartel.com/\n",
      "    https://banjaraking.bigcartel.com/product/fringed-banjara-bag\n",
      "    https://banjaraking.bigcartel.com/product/embellished-suede-sling\n",
      "  https://banjaraking.bigcartel.com/contact\n",
      "    https://banjaraking.bigcartel.com/\n",
      "    https://banjaraking.bigcartel.com/cart\n",
      "    https://banjaraking.bigcartel.com/products\n",
      "    https://banjaraking.bigcartel.com/contact\n",
      "    https://www.instagram.com/banjara_king/\n",
      "    https://www.bigcartel.com/?utm_source=bigcartel&utm_medium=credit&utm_campaign=2502679\n",
      "    https://banjaraking.bigcartel.com/cart\n",
      "    https://banjaraking.bigcartel.com/contact\n",
      "    https://banjaraking.bigcartel.com/\n",
      "  https://www.instagram.com/banjara_king/\n",
      "  https://www.bigcartel.com/?utm_source=bigcartel&utm_medium=credit&utm_campaign=2502679\n",
      "    https://www.bigcartel.com/\n",
      "    https://www.bigcartel.com/examples\n",
      "    https://www.bigcartel.com/pricing\n",
      "    https://www.bigcartel.com/about\n",
      "    https://my.bigcartel.com\n",
      "    https://www.bigcartel.com/pricing\n",
      "    https://www.bigcartel.com/\n",
      "    https://www.bigcartel.com/pricing\n",
      "    https://my.bigcartel.com/signup/gold\n",
      "    https://my.bigcartel.com/signup/platinum\n",
      "    https://my.bigcartel.com/signup/diamond\n",
      "    https://my.bigcartel.com/signup/titanium\n",
      "    https://www.bigcartel.com/pricing\n",
      "    https://www.bigcartel.com/\n",
      "    https://www.instagram.com/bigcartel\n",
      "    https://twitter.com/bigcartel\n",
      "    https://www.facebook.com/bigcartel\n",
      "    https://www.youtube.com/channel/UCnsw2meCtc5XGnJ5-bpgzTQ\n",
      "    https://www.pinterest.com/big_cartel\n",
      "    https://blog.bigcartel.com/\n",
      "    https://help.bigcartel.com/\n",
      "    https://developers.bigcartel.com/\n",
      "    https://help.bigcartel.com/topic/legal\n",
      "    https://help.bigcartel.com/supported-browsers\n",
      "  https://banjaraking.bigcartel.com/cart\n",
      "    https://banjaraking.bigcartel.com/\n",
      "    https://banjaraking.bigcartel.com/cart\n",
      "    https://banjaraking.bigcartel.com/products\n",
      "    https://banjaraking.bigcartel.com/contact\n",
      "    https://www.instagram.com/banjara_king/\n",
      "    https://www.bigcartel.com/?utm_source=bigcartel&utm_medium=credit&utm_campaign=2502679\n",
      "    https://banjaraking.bigcartel.com/cart\n",
      "    https://banjaraking.bigcartel.com/cart\n",
      "    https://banjaraking.bigcartel.com/\n",
      "    https://banjaraking.bigcartel.com/\n",
      "  https://banjaraking.bigcartel.com/\n",
      "    https://banjaraking.bigcartel.com/\n",
      "    https://banjaraking.bigcartel.com/cart\n",
      "    https://banjaraking.bigcartel.com/products\n",
      "    https://banjaraking.bigcartel.com/contact\n",
      "    https://www.instagram.com/banjara_king/\n",
      "    https://www.bigcartel.com/?utm_source=bigcartel&utm_medium=credit&utm_campaign=2502679\n",
      "    https://banjaraking.bigcartel.com/cart\n",
      "    https://banjaraking.bigcartel.com/\n",
      "    https://banjaraking.bigcartel.com/\n",
      "    https://banjaraking.bigcartel.com/product/fringed-banjara-bag\n",
      "    https://banjaraking.bigcartel.com/product/embellished-suede-sling\n",
      "  https://banjaraking.bigcartel.com/\n",
      "    https://banjaraking.bigcartel.com/\n",
      "    https://banjaraking.bigcartel.com/cart\n",
      "    https://banjaraking.bigcartel.com/products\n",
      "    https://banjaraking.bigcartel.com/contact\n",
      "    https://www.instagram.com/banjara_king/\n",
      "    https://www.bigcartel.com/?utm_source=bigcartel&utm_medium=credit&utm_campaign=2502679\n",
      "    https://banjaraking.bigcartel.com/cart\n",
      "    https://banjaraking.bigcartel.com/\n",
      "    https://banjaraking.bigcartel.com/\n",
      "    https://banjaraking.bigcartel.com/product/fringed-banjara-bag\n",
      "    https://banjaraking.bigcartel.com/product/embellished-suede-sling\n",
      "  https://banjaraking.bigcartel.com/product/fringed-banjara-bag\n",
      "    https://banjaraking.bigcartel.com/\n",
      "    https://banjaraking.bigcartel.com/cart\n",
      "    https://banjaraking.bigcartel.com/products\n",
      "    https://banjaraking.bigcartel.com/contact\n",
      "    https://www.instagram.com/banjara_king/\n",
      "    https://www.bigcartel.com/?utm_source=bigcartel&utm_medium=credit&utm_campaign=2502679\n",
      "    https://banjaraking.bigcartel.com/cart\n",
      "    https://banjaraking.bigcartel.com/product/fringed-banjara-bag\n",
      "    https://banjaraking.bigcartel.com/\n"
     ]
    },
    {
     "ename": "UnicodeDecodeError",
     "evalue": "'utf-8' codec can't decode byte 0xff in position 0: invalid start byte",
     "output_type": "error",
     "traceback": [
      "\u001b[0;31m---------------------------------------------------------------------------\u001b[0m",
      "\u001b[0;31mUnicodeDecodeError\u001b[0m                        Traceback (most recent call last)",
      "\u001b[0;32m<ipython-input-1-0fc1a0b2d866>\u001b[0m in \u001b[0;36m<module>\u001b[0;34m\u001b[0m\n\u001b[1;32m     43\u001b[0m \u001b[0;34m\u001b[0m\u001b[0m\n\u001b[1;32m     44\u001b[0m \u001b[0;34m\u001b[0m\u001b[0m\n\u001b[0;32m---> 45\u001b[0;31m \u001b[0mwebdir\u001b[0m\u001b[0;34m(\u001b[0m\u001b[0;34m\"https://banjaraking.bigcartel.com/\"\u001b[0m\u001b[0;34m,\u001b[0m \u001b[0;36m2\u001b[0m\u001b[0;34m,\u001b[0m \u001b[0;36m0\u001b[0m\u001b[0;34m)\u001b[0m\u001b[0;34m\u001b[0m\u001b[0;34m\u001b[0m\u001b[0m\n\u001b[0m\u001b[1;32m     46\u001b[0m \u001b[0;34m\u001b[0m\u001b[0m\n",
      "\u001b[0;32m<ipython-input-1-0fc1a0b2d866>\u001b[0m in \u001b[0;36mwebdir\u001b[0;34m(url, depth, indent)\u001b[0m\n\u001b[1;32m     39\u001b[0m             \u001b[0;31m#depth is greater than zero\u001b[0m\u001b[0;34m\u001b[0m\u001b[0;34m\u001b[0m\u001b[0;34m\u001b[0m\u001b[0m\n\u001b[1;32m     40\u001b[0m             \u001b[0;32mif\u001b[0m \u001b[0mdepth\u001b[0m\u001b[0;34m>\u001b[0m\u001b[0;36m0\u001b[0m\u001b[0;34m:\u001b[0m\u001b[0;34m\u001b[0m\u001b[0;34m\u001b[0m\u001b[0m\n\u001b[0;32m---> 41\u001b[0;31m                 \u001b[0mwebdir\u001b[0m\u001b[0;34m(\u001b[0m\u001b[0mURL\u001b[0m\u001b[0;34m,\u001b[0m \u001b[0mdepth\u001b[0m\u001b[0;34m-\u001b[0m\u001b[0;36m1\u001b[0m\u001b[0;34m,\u001b[0m \u001b[0mindent\u001b[0m\u001b[0;34m+\u001b[0m\u001b[0;34m+\u001b[0m\u001b[0;36m2\u001b[0m\u001b[0;34m)\u001b[0m\u001b[0;34m\u001b[0m\u001b[0;34m\u001b[0m\u001b[0m\n\u001b[0m\u001b[1;32m     42\u001b[0m \u001b[0;34m\u001b[0m\u001b[0m\n\u001b[1;32m     43\u001b[0m \u001b[0;34m\u001b[0m\u001b[0m\n",
      "\u001b[0;32m<ipython-input-1-0fc1a0b2d866>\u001b[0m in \u001b[0;36mwebdir\u001b[0;34m(url, depth, indent)\u001b[0m\n\u001b[1;32m     39\u001b[0m             \u001b[0;31m#depth is greater than zero\u001b[0m\u001b[0;34m\u001b[0m\u001b[0;34m\u001b[0m\u001b[0;34m\u001b[0m\u001b[0m\n\u001b[1;32m     40\u001b[0m             \u001b[0;32mif\u001b[0m \u001b[0mdepth\u001b[0m\u001b[0;34m>\u001b[0m\u001b[0;36m0\u001b[0m\u001b[0;34m:\u001b[0m\u001b[0;34m\u001b[0m\u001b[0;34m\u001b[0m\u001b[0m\n\u001b[0;32m---> 41\u001b[0;31m                 \u001b[0mwebdir\u001b[0m\u001b[0;34m(\u001b[0m\u001b[0mURL\u001b[0m\u001b[0;34m,\u001b[0m \u001b[0mdepth\u001b[0m\u001b[0;34m-\u001b[0m\u001b[0;36m1\u001b[0m\u001b[0;34m,\u001b[0m \u001b[0mindent\u001b[0m\u001b[0;34m+\u001b[0m\u001b[0;34m+\u001b[0m\u001b[0;36m2\u001b[0m\u001b[0;34m)\u001b[0m\u001b[0;34m\u001b[0m\u001b[0;34m\u001b[0m\u001b[0m\n\u001b[0m\u001b[1;32m     42\u001b[0m \u001b[0;34m\u001b[0m\u001b[0m\n\u001b[1;32m     43\u001b[0m \u001b[0;34m\u001b[0m\u001b[0m\n",
      "\u001b[0;32m<ipython-input-1-0fc1a0b2d866>\u001b[0m in \u001b[0;36mwebdir\u001b[0;34m(url, depth, indent)\u001b[0m\n\u001b[1;32m     28\u001b[0m \u001b[0;32mdef\u001b[0m \u001b[0mwebdir\u001b[0m\u001b[0;34m(\u001b[0m\u001b[0murl\u001b[0m\u001b[0;34m,\u001b[0m \u001b[0mdepth\u001b[0m\u001b[0;34m,\u001b[0m \u001b[0mindent\u001b[0m\u001b[0;34m)\u001b[0m\u001b[0;34m:\u001b[0m\u001b[0;34m\u001b[0m\u001b[0;34m\u001b[0m\u001b[0m\n\u001b[1;32m     29\u001b[0m         \u001b[0mopenurl\u001b[0m \u001b[0;34m=\u001b[0m \u001b[0murlopen\u001b[0m\u001b[0;34m(\u001b[0m\u001b[0murl\u001b[0m\u001b[0;34m)\u001b[0m\u001b[0;34m\u001b[0m\u001b[0;34m\u001b[0m\u001b[0m\n\u001b[0;32m---> 30\u001b[0;31m         \u001b[0mcontent\u001b[0m \u001b[0;34m=\u001b[0m \u001b[0mopenurl\u001b[0m\u001b[0;34m.\u001b[0m\u001b[0mread\u001b[0m\u001b[0;34m(\u001b[0m\u001b[0;34m)\u001b[0m\u001b[0;34m.\u001b[0m\u001b[0mdecode\u001b[0m\u001b[0;34m(\u001b[0m\u001b[0;34m)\u001b[0m\u001b[0;34m\u001b[0m\u001b[0;34m\u001b[0m\u001b[0m\n\u001b[0m\u001b[1;32m     31\u001b[0m         \u001b[0mcollector\u001b[0m \u001b[0;34m=\u001b[0m \u001b[0mCollector\u001b[0m\u001b[0;34m(\u001b[0m\u001b[0murl\u001b[0m\u001b[0;34m)\u001b[0m\u001b[0;34m\u001b[0m\u001b[0;34m\u001b[0m\u001b[0m\n\u001b[1;32m     32\u001b[0m         \u001b[0mcollector\u001b[0m\u001b[0;34m.\u001b[0m\u001b[0mfeed\u001b[0m\u001b[0;34m(\u001b[0m\u001b[0mcontent\u001b[0m\u001b[0;34m)\u001b[0m\u001b[0;34m\u001b[0m\u001b[0;34m\u001b[0m\u001b[0m\n",
      "\u001b[0;31mUnicodeDecodeError\u001b[0m: 'utf-8' codec can't decode byte 0xff in position 0: invalid start byte"
     ]
    }
   ],
   "source": [
    "from urllib.request import urlopen\n",
    "from urllib.parse import urljoin\n",
    "from html.parser import HTMLParser\n",
    "\n",
    "\n",
    "class Collector(HTMLParser):\n",
    "    'collects hyperlink URLs into a list'\n",
    "\n",
    "    def __init__(self, url):\n",
    "       #initialize \n",
    "        HTMLParser.__init__(self)\n",
    "        self.url = url\n",
    "        self.links = []\n",
    "\n",
    "    def handle_starttag(self, tag, attrs):\n",
    "        #collects the url and convert them to absolute form\n",
    "        if tag == 'a':\n",
    "            for attr in attrs:\n",
    "                if attr[0] == 'href':\n",
    "                    \n",
    "                    absolute = urljoin(self.url, attr[1])\n",
    "                    if absolute[:4] == 'http': \n",
    "                        self.links.append(absolute)\n",
    "                        \n",
    "    def getLinks(self):\n",
    "        #returns the list of urls in abosulte format\n",
    "        return self.links\n",
    "def webdir(url, depth, indent):\n",
    "        openurl = urlopen(url)\n",
    "        content = openurl.read().decode()\n",
    "        collector = Collector(url)\n",
    "        collector.feed(content)\n",
    "        urls = collector.getLinks()\n",
    "        #print url with indent\n",
    "        print(\"{}{}\".format(indent*' ', url))\n",
    "        \n",
    "        \n",
    "        for URL in urls:\n",
    "            #depth is greater than zero \n",
    "            if depth>0:\n",
    "                webdir(URL, depth-1, indent++2)\n",
    "\n",
    "    \n",
    "        \n",
    "webdir(\"https://banjaraking.bigcartel.com/\", 2, 0)\n",
    "    "
   ]
  },
  {
   "cell_type": "markdown",
   "metadata": {},
   "source": [
    "### QUESTION-9\n",
    "\n",
    "Write SQL queries on the below database table that return:"
   ]
  },
  {
   "cell_type": "markdown",
   "metadata": {},
   "source": [
    "### I HAVE ASSUMED TABLE NAME AS \"rainfall\""
   ]
  },
  {
   "cell_type": "markdown",
   "metadata": {},
   "source": [
    "a) All the temperature data."
   ]
  },
  {
   "cell_type": "markdown",
   "metadata": {},
   "source": [
    "SELECT Temperature FROM rainfall"
   ]
  },
  {
   "cell_type": "markdown",
   "metadata": {},
   "source": [
    "b) All the cities, but without repetition."
   ]
  },
  {
   "cell_type": "markdown",
   "metadata": {},
   "source": [
    "SELECT DISTINCT City FROM rainfall"
   ]
  },
  {
   "cell_type": "markdown",
   "metadata": {},
   "source": [
    "c) All the records for India."
   ]
  },
  {
   "cell_type": "markdown",
   "metadata": {},
   "source": [
    "SELECT * FROM rainfall  \n",
    "\n",
    "WHERE Country = 'India'"
   ]
  },
  {
   "cell_type": "markdown",
   "metadata": {},
   "source": [
    "d) All the Fall records."
   ]
  },
  {
   "cell_type": "markdown",
   "metadata": {},
   "source": [
    "SELECT * FROM rainfall \n",
    "\n",
    "WHERE Season = 'Fall'\n"
   ]
  },
  {
   "cell_type": "markdown",
   "metadata": {},
   "source": [
    "e) The city, country, and season for which the average rainfall is between 200\n",
    "and 400 millimeters."
   ]
  },
  {
   "cell_type": "markdown",
   "metadata": {},
   "source": [
    "SELECT DISTINCT City, Country, Season FROM rainfall\n",
    "\n",
    "WHERE Rainfall BETWEEN 200 AND 400"
   ]
  },
  {
   "cell_type": "markdown",
   "metadata": {},
   "source": [
    "f) The city and country for which the average Fall temperature is above 20\n",
    "degrees, in increasing temperature order."
   ]
  },
  {
   "cell_type": "markdown",
   "metadata": {},
   "source": [
    "SELECT DISTINCT City, Country FROM rainfall\n",
    "\n",
    "WHERE Season = 'Fall' AND Temperature > 20\n",
    "\n",
    "ORDER BY Temperature ASC"
   ]
  },
  {
   "cell_type": "markdown",
   "metadata": {},
   "source": [
    "g) The total annual rainfall for Cairo."
   ]
  },
  {
   "cell_type": "markdown",
   "metadata": {},
   "source": [
    "SELECT SUM(Rainfall) FROM rainfall\n",
    "\n",
    "WHERE City = 'Cairo'\n"
   ]
  },
  {
   "cell_type": "markdown",
   "metadata": {},
   "source": [
    "h) The total rainfall for each season."
   ]
  },
  {
   "cell_type": "markdown",
   "metadata": {},
   "source": [
    "SELECT Season, SUM(Rainfall) FROM rainfall\n",
    "\n",
    "GROUP BY Season"
   ]
  },
  {
   "cell_type": "markdown",
   "metadata": {},
   "source": [
    "### QUESTION-10\n",
    "\n",
    "\n",
    "\n",
    "Suppose list words is defined as follows:\n",
    "words = ['The', 'quick', 'brown', 'fox', 'jumps', 'over','the', 'lazy', 'dog']\n",
    "Write list comprehension expressions that use list words and generate the following\n",
    "lists:\n",
    "\n",
    "a) ['THE', 'QUICK', 'BROWN', 'FOX', 'JUMPS', 'OVER', 'THE','LAZY', 'DOG']\n",
    "\n",
    "\n",
    "b) ['the', 'quick', 'brown', 'fox', 'jumps', 'over', 'the','lazy', 'dog']\n",
    "\n",
    "\n",
    "c) [3, 5, 5, 3, 5, 4, 3, 4, 3] (the list of lengths of words in list words).\n",
    "\n",
    "\n",
    "d) [['THE', 'the', 3], ['QUICK', 'quick', 5], ['BROWN','brown', 5], ['FOX', 'fox', 3], ['JUMPS', 'jumps', 5],\n",
    "['OVER', 'over', 4], ['THE', 'the', 3], ['LAZY', 'lazy',4], ['DOG', 'dog', 3]] (the list containing a list for every word of list words, where each list contains the word in uppercase and lowercase and the\n",
    "length of the word.)\n",
    "\n",
    "e) ['The', 'quick', 'brown', 'fox', 'jumps', 'over', 'the','lazy', 'dog'] (the list of words in list words containing 4 or more\n",
    "characters.)"
   ]
  },
  {
   "cell_type": "code",
   "execution_count": 62,
   "metadata": {},
   "outputs": [],
   "source": [
    "words = ['The', 'quick', 'brown', 'fox', 'jumps', 'over','the', 'lazy', 'dog']"
   ]
  },
  {
   "cell_type": "code",
   "execution_count": 65,
   "metadata": {},
   "outputs": [
    {
     "name": "stdout",
     "output_type": "stream",
     "text": [
      "['THE', 'QUICK', 'BROWN', 'FOX', 'JUMPS', 'OVER', 'THE', 'LAZY', 'DOG']\n"
     ]
    }
   ],
   "source": [
    "upper_case = [word.upper() for word in words]\n",
    "print(upper_case)"
   ]
  },
  {
   "cell_type": "code",
   "execution_count": 66,
   "metadata": {},
   "outputs": [
    {
     "name": "stdout",
     "output_type": "stream",
     "text": [
      "['the', 'quick', 'brown', 'fox', 'jumps', 'over', 'the', 'lazy', 'dog']\n"
     ]
    }
   ],
   "source": [
    "lower_case = [word.lower() for word in words]\n",
    "print(lower_case)"
   ]
  },
  {
   "cell_type": "code",
   "execution_count": 68,
   "metadata": {},
   "outputs": [
    {
     "name": "stdout",
     "output_type": "stream",
     "text": [
      "[3, 5, 5, 3, 5, 4, 3, 4, 3]\n"
     ]
    }
   ],
   "source": [
    "length = [len(word) for word in words]\n",
    "print(length)\n"
   ]
  },
  {
   "cell_type": "code",
   "execution_count": 69,
   "metadata": {},
   "outputs": [
    {
     "name": "stdout",
     "output_type": "stream",
     "text": [
      "[['THE', 'the', 3], ['QUICK', 'quick', 5], ['BROWN', 'brown', 5], ['FOX', 'fox', 3], ['JUMPS', 'jumps', 5], ['OVER', 'over', 4], ['THE', 'the', 3], ['LAZY', 'lazy', 4], ['DOG', 'dog', 3]]\n"
     ]
    }
   ],
   "source": [
    "list_all = [ [word.upper(),word.lower(), len(word)] for word in words]\n",
    "print(list_all)"
   ]
  },
  {
   "cell_type": "code",
   "execution_count": 72,
   "metadata": {},
   "outputs": [
    {
     "name": "stdout",
     "output_type": "stream",
     "text": [
      "['quick', 'brown', 'jumps', 'over', 'lazy']\n"
     ]
    }
   ],
   "source": [
    "list_four = [word for word in words if len(word)>=4]\n",
    "print(list_four)"
   ]
  }
 ],
 "metadata": {
  "kernelspec": {
   "display_name": "Python 3",
   "language": "python",
   "name": "python3"
  },
  "language_info": {
   "codemirror_mode": {
    "name": "ipython",
    "version": 3
   },
   "file_extension": ".py",
   "mimetype": "text/x-python",
   "name": "python",
   "nbconvert_exporter": "python",
   "pygments_lexer": "ipython3",
   "version": "3.7.6"
  }
 },
 "nbformat": 4,
 "nbformat_minor": 4
}
